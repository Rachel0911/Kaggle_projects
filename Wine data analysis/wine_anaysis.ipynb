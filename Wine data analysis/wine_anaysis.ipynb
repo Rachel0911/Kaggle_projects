{
 "cells": [
  {
   "cell_type": "code",
   "execution_count": 1,
   "metadata": {},
   "outputs": [],
   "source": [
    "#!/usr/bin/env python3\n",
    "# coding=utf-8\n",
    "\n",
    "\"\"\"Analysis of wine data\"\"\"\n",
    "\n",
    "__author__ = \"Rachel Wang\"\n",
    "\n",
    "# import libraries\n",
    "import pandas as pd\n",
    "import numpy as np\n",
    "import matplotlib.pyplot as plt\n",
    "%matplotlib inline\n",
    "import seaborn as sns\n",
    "import pygal.maps.world \n"
   ]
  },
  {
   "cell_type": "code",
   "execution_count": 2,
   "metadata": {},
   "outputs": [
    {
     "name": "stdout",
     "output_type": "stream",
     "text": [
      "<class 'pandas.core.frame.DataFrame'>\n",
      "Int64Index: 150930 entries, 0 to 150929\n",
      "Data columns (total 10 columns):\n",
      "country        150925 non-null object\n",
      "description    150930 non-null object\n",
      "designation    105195 non-null object\n",
      "points         150930 non-null int64\n",
      "price          137235 non-null float64\n",
      "province       150925 non-null object\n",
      "region_1       125870 non-null object\n",
      "region_2       60953 non-null object\n",
      "variety        150930 non-null object\n",
      "winery         150930 non-null object\n",
      "dtypes: float64(1), int64(1), object(8)\n",
      "memory usage: 12.7+ MB\n"
     ]
    }
   ],
   "source": [
    "# load data from csv file\n",
    "# set index_col = 0 to avoid adding Unnamed: 0 column when use pd.read_csv\n",
    "wineData = pd.read_csv(\"/Users/rwang/PycharmProjects/Kaggle_projects/Wine data analysis/winemag-data_first150k.csv\", index_col=0)\n",
    "# check wineData info and describe\n",
    "wineData.info()\n",
    "# explain result: except points and price are numeric, others \n",
    "# are objects. country, designation, price, province, region_1\n",
    "# region_2 have missing values"
   ]
  },
  {
   "cell_type": "code",
   "execution_count": 3,
   "metadata": {},
   "outputs": [
    {
     "data": {
      "text/html": [
       "<div>\n",
       "<style scoped>\n",
       "    .dataframe tbody tr th:only-of-type {\n",
       "        vertical-align: middle;\n",
       "    }\n",
       "\n",
       "    .dataframe tbody tr th {\n",
       "        vertical-align: top;\n",
       "    }\n",
       "\n",
       "    .dataframe thead th {\n",
       "        text-align: right;\n",
       "    }\n",
       "</style>\n",
       "<table border=\"1\" class=\"dataframe\">\n",
       "  <thead>\n",
       "    <tr style=\"text-align: right;\">\n",
       "      <th></th>\n",
       "      <th>points</th>\n",
       "      <th>price</th>\n",
       "    </tr>\n",
       "  </thead>\n",
       "  <tbody>\n",
       "    <tr>\n",
       "      <th>count</th>\n",
       "      <td>150930.000000</td>\n",
       "      <td>137235.000000</td>\n",
       "    </tr>\n",
       "    <tr>\n",
       "      <th>mean</th>\n",
       "      <td>87.888418</td>\n",
       "      <td>33.131482</td>\n",
       "    </tr>\n",
       "    <tr>\n",
       "      <th>std</th>\n",
       "      <td>3.222392</td>\n",
       "      <td>36.322536</td>\n",
       "    </tr>\n",
       "    <tr>\n",
       "      <th>min</th>\n",
       "      <td>80.000000</td>\n",
       "      <td>4.000000</td>\n",
       "    </tr>\n",
       "    <tr>\n",
       "      <th>25%</th>\n",
       "      <td>86.000000</td>\n",
       "      <td>16.000000</td>\n",
       "    </tr>\n",
       "    <tr>\n",
       "      <th>50%</th>\n",
       "      <td>88.000000</td>\n",
       "      <td>24.000000</td>\n",
       "    </tr>\n",
       "    <tr>\n",
       "      <th>75%</th>\n",
       "      <td>90.000000</td>\n",
       "      <td>40.000000</td>\n",
       "    </tr>\n",
       "    <tr>\n",
       "      <th>max</th>\n",
       "      <td>100.000000</td>\n",
       "      <td>2300.000000</td>\n",
       "    </tr>\n",
       "  </tbody>\n",
       "</table>\n",
       "</div>"
      ],
      "text/plain": [
       "              points          price\n",
       "count  150930.000000  137235.000000\n",
       "mean       87.888418      33.131482\n",
       "std         3.222392      36.322536\n",
       "min        80.000000       4.000000\n",
       "25%        86.000000      16.000000\n",
       "50%        88.000000      24.000000\n",
       "75%        90.000000      40.000000\n",
       "max       100.000000    2300.000000"
      ]
     },
     "execution_count": 3,
     "metadata": {},
     "output_type": "execute_result"
    }
   ],
   "source": [
    "wineData.describe()\n",
    "# report result: the maximum points is 100, minimum is 80 \n",
    "# std=3.22 means variance of points is not too much\n",
    "# the maximum price is 2300, minimum is 4. The std is 36.32\n",
    "# It is a large value means prices have a big difference."
   ]
  },
  {
   "cell_type": "code",
   "execution_count": 4,
   "metadata": {},
   "outputs": [
    {
     "data": {
      "text/plain": [
       "False    97851\n",
       "True     53079\n",
       "dtype: int64"
      ]
     },
     "execution_count": 4,
     "metadata": {},
     "output_type": "execute_result"
    }
   ],
   "source": [
    "# check duplicated value\n",
    "wineData.duplicated().value_counts()"
   ]
  },
  {
   "cell_type": "code",
   "execution_count": 5,
   "metadata": {},
   "outputs": [],
   "source": [
    "duplicateRows = wineData[wineData.duplicated()]\n",
    " \n",
    "#print(\"Duplicate Rows except first occurrence based on all columns are :\")\n",
    "#print(duplicateRows)\n",
    "\n",
    "# remove duplicated rows \n",
    "wineData.drop_duplicates(inplace=True)\n"
   ]
  },
  {
   "cell_type": "code",
   "execution_count": 6,
   "metadata": {},
   "outputs": [
    {
     "name": "stdout",
     "output_type": "stream",
     "text": [
      "<class 'pandas.core.frame.DataFrame'>\n",
      "Int64Index: 97851 entries, 0 to 149639\n",
      "Data columns (total 10 columns):\n",
      "country        97848 non-null object\n",
      "description    97851 non-null object\n",
      "designation    67955 non-null object\n",
      "points         97851 non-null int64\n",
      "price          89131 non-null float64\n",
      "province       97848 non-null object\n",
      "region_1       81919 non-null object\n",
      "region_2       39491 non-null object\n",
      "variety        97851 non-null object\n",
      "winery         97851 non-null object\n",
      "dtypes: float64(1), int64(1), object(8)\n",
      "memory usage: 8.2+ MB\n"
     ]
    },
    {
     "data": {
      "text/html": [
       "<div>\n",
       "<style scoped>\n",
       "    .dataframe tbody tr th:only-of-type {\n",
       "        vertical-align: middle;\n",
       "    }\n",
       "\n",
       "    .dataframe tbody tr th {\n",
       "        vertical-align: top;\n",
       "    }\n",
       "\n",
       "    .dataframe thead th {\n",
       "        text-align: right;\n",
       "    }\n",
       "</style>\n",
       "<table border=\"1\" class=\"dataframe\">\n",
       "  <thead>\n",
       "    <tr style=\"text-align: right;\">\n",
       "      <th></th>\n",
       "      <th>points</th>\n",
       "      <th>price</th>\n",
       "    </tr>\n",
       "  </thead>\n",
       "  <tbody>\n",
       "    <tr>\n",
       "      <th>count</th>\n",
       "      <td>97851.000000</td>\n",
       "      <td>89131.000000</td>\n",
       "    </tr>\n",
       "    <tr>\n",
       "      <th>mean</th>\n",
       "      <td>87.956730</td>\n",
       "      <td>33.658783</td>\n",
       "    </tr>\n",
       "    <tr>\n",
       "      <th>std</th>\n",
       "      <td>3.218138</td>\n",
       "      <td>37.670180</td>\n",
       "    </tr>\n",
       "    <tr>\n",
       "      <th>min</th>\n",
       "      <td>80.000000</td>\n",
       "      <td>4.000000</td>\n",
       "    </tr>\n",
       "    <tr>\n",
       "      <th>25%</th>\n",
       "      <td>86.000000</td>\n",
       "      <td>16.000000</td>\n",
       "    </tr>\n",
       "    <tr>\n",
       "      <th>50%</th>\n",
       "      <td>88.000000</td>\n",
       "      <td>25.000000</td>\n",
       "    </tr>\n",
       "    <tr>\n",
       "      <th>75%</th>\n",
       "      <td>90.000000</td>\n",
       "      <td>40.000000</td>\n",
       "    </tr>\n",
       "    <tr>\n",
       "      <th>max</th>\n",
       "      <td>100.000000</td>\n",
       "      <td>2300.000000</td>\n",
       "    </tr>\n",
       "  </tbody>\n",
       "</table>\n",
       "</div>"
      ],
      "text/plain": [
       "             points         price\n",
       "count  97851.000000  89131.000000\n",
       "mean      87.956730     33.658783\n",
       "std        3.218138     37.670180\n",
       "min       80.000000      4.000000\n",
       "25%       86.000000     16.000000\n",
       "50%       88.000000     25.000000\n",
       "75%       90.000000     40.000000\n",
       "max      100.000000   2300.000000"
      ]
     },
     "execution_count": 6,
     "metadata": {},
     "output_type": "execute_result"
    }
   ],
   "source": [
    "# check basic info. No much change\n",
    "wineData.info()\n",
    "wineData.describe()"
   ]
  },
  {
   "cell_type": "markdown",
   "metadata": {},
   "source": [
    "# analyze hidden info of wine data\n",
    "# Questions\n",
    "# 1."
   ]
  },
  {
   "cell_type": "code",
   "execution_count": 7,
   "metadata": {},
   "outputs": [],
   "source": [
    "# check distibution of wine production country\n"
   ]
  },
  {
   "cell_type": "code",
   "execution_count": 8,
   "metadata": {},
   "outputs": [
    {
     "data": {
      "text/plain": [
       "Text(0, 0.5, 'Counts')"
      ]
     },
     "execution_count": 8,
     "metadata": {},
     "output_type": "execute_result"
    },
    {
     "data": {
      "image/png": "[encoded data removed]",
      "text/plain": [
       "<Figure size 432x288 with 1 Axes>"
      ]
     },
     "metadata": {},
     "output_type": "display_data"
    }
   ],
   "source": [
    "# draw bar chat for varitiy\n",
    "topVarieties = wineData.variety.value_counts()[0:10]\n",
    "ax = topVarieties.plot(kind='bar', title='top 10 of Wine Varieties')\n",
    "plt.ylabel('Counts', fontsize=12)\n",
    "# the rank is consistent with result of researching \"common wine varieties\"\n",
    "# on Google"
   ]
  },
  {
   "cell_type": "code",
   "execution_count": 9,
   "metadata": {},
   "outputs": [],
   "source": [
    "topVaritiesDf = wineData[wineData.variety.isin(topVarieties.index)]"
   ]
  },
  {
   "cell_type": "markdown",
   "metadata": {},
   "source": [
    "\n",
    "Plus a note: Difference between bar chat and histogram\n",
    "A histogram represents the frequency distribution of continuous variables. \n",
    "Conversely, a bar graph is a diagrammatic comparison of discrete variables. \n",
    "Histogram presents numerical data whereas bar graph shows categorical data. \n",
    "The histogram is drawn in such a way that there is no gap between the bars."
   ]
  },
  {
   "cell_type": "code",
   "execution_count": 10,
   "metadata": {},
   "outputs": [
    {
     "data": {
      "text/plain": [
       "[Text(0, 0, 'Cabernet Sauvignon'),\n",
       " Text(0, 0, 'Sauvignon Blanc'),\n",
       " Text(0, 0, 'Pinot Noir'),\n",
       " Text(0, 0, 'Chardonnay'),\n",
       " Text(0, 0, 'Syrah'),\n",
       " Text(0, 0, 'Red Blend'),\n",
       " Text(0, 0, 'Riesling'),\n",
       " Text(0, 0, 'Zinfandel'),\n",
       " Text(0, 0, 'Bordeaux-style Red Blend'),\n",
       " Text(0, 0, 'Merlot')]"
      ]
     },
     "execution_count": 10,
     "metadata": {},
     "output_type": "execute_result"
    },
    {
     "data": {
      "image/png": "[encoded data removed]",
      "text/plain": [
       "<Figure size 864x576 with 1 Axes>"
      ]
     },
     "metadata": {},
     "output_type": "display_data"
    }
   ],
   "source": [
    "plt.figure(figsize=(12, 8))\n",
    "plt.ylim([0, 125])\n",
    "ax = sns.boxplot(x='variety', y=\"price\", data=topVaritiesDf, palette=\"Blues\")\n",
    "ax.set_xticklabels(ax.get_xticklabels(), rotation=45, horizontalalignment='right')"
   ]
  },
  {
   "cell_type": "markdown",
   "metadata": {},
   "source": [
    "Bordeaux-style Red Blend, Pinot Noir, and Cabernet Sauvignon have higher price\n",
    "among the top10 varieties. Let's see top10 wine variety and points relationship"
   ]
  },
  {
   "cell_type": "code",
   "execution_count": 11,
   "metadata": {},
   "outputs": [
    {
     "data": {
      "text/plain": [
       "[Text(0, 0, 'Cabernet Sauvignon'),\n",
       " Text(0, 0, 'Sauvignon Blanc'),\n",
       " Text(0, 0, 'Pinot Noir'),\n",
       " Text(0, 0, 'Chardonnay'),\n",
       " Text(0, 0, 'Syrah'),\n",
       " Text(0, 0, 'Red Blend'),\n",
       " Text(0, 0, 'Riesling'),\n",
       " Text(0, 0, 'Zinfandel'),\n",
       " Text(0, 0, 'Bordeaux-style Red Blend'),\n",
       " Text(0, 0, 'Merlot')]"
      ]
     },
     "execution_count": 11,
     "metadata": {},
     "output_type": "execute_result"
    },
    {
     "data": {
      "image/png": "[encoded data removed]",
      "text/plain": [
       "<Figure size 864x576 with 1 Axes>"
      ]
     },
     "metadata": {},
     "output_type": "display_data"
    }
   ],
   "source": [
    "plt.figure(figsize=(12, 8))\n",
    "ax = sns.boxplot(x='variety', y=\"points\", data=topVaritiesDf, palette=\"Blues\")\n",
    "ax.set_xticklabels(ax.get_xticklabels(), rotation=45, horizontalalignment='right')"
   ]
  },
  {
   "cell_type": "markdown",
   "metadata": {},
   "source": [
    "Still Bordeaux-style Red Blend, Pinot Noir, and Cabernet Sauvignon \n",
    "have higher mean of points\n",
    "We could get a conclusion: more expensive, taste better."
   ]
  },
  {
   "cell_type": "code",
   "execution_count": 17,
   "metadata": {},
   "outputs": [
    {
     "data": {
      "text/plain": [
       "Index(['US', 'Italy', 'France', 'Spain', 'Chile', 'Portugal', 'Argentina',\n",
       "       'Australia', 'Austria', 'New Zealand', 'Germany', 'South Africa',\n",
       "       'Greece', 'Israel', 'Canada', 'Hungary', 'Romania', 'Slovenia',\n",
       "       'Croatia', 'Bulgaria', 'Mexico', 'Uruguay', 'Moldova', 'Turkey',\n",
       "       'Georgia', 'Lebanon', 'Cyprus', 'Brazil', 'Macedonia', 'Morocco',\n",
       "       'Serbia', 'England', 'India', 'Czech Republic', 'Ukraine', 'Lithuania',\n",
       "       'Switzerland', 'Bosnia and Herzegovina', 'Luxembourg', 'Egypt',\n",
       "       'South Korea', 'China', 'Slovakia', 'Tunisia', 'Albania', 'Japan',\n",
       "       'Montenegro', 'US-France'],\n",
       "      dtype='object')"
      ]
     },
     "execution_count": 17,
     "metadata": {},
     "output_type": "execute_result"
    }
   ],
   "source": [
    "wineData.country.value_counts().index"
   ]
  },
  {
   "cell_type": "code",
   "execution_count": null,
   "metadata": {},
   "outputs": [],
   "source": [
    "countryCode = {'Andorra':'ad', 'United Arab Emirates':'ae', 'Afghanistan':'af',\n",
    "              'Albania':'al','Armenia':'am', 'Angola':'ao', 'Antarctica':'aq', \n",
    "               'Argentina':'ar', 'Austria':'at','Australia':'au', 'Azerbaijan':'az', \n",
    "               \n",
    "               'Bosnia and Herzegovina':'ba',\n",
    "               'Bangladesh':'bd', 'Belgium':'be','Burkina Faso':'bf', 'Bulgaria':'bg', \n",
    "               'Bahrain':'bh', 'Burundi':'bi','Benin':'bj', 'Brunei Darussalam':'bn',\n",
    "               'Bolivia, Plurinational State of':'bo', 'Brazil':'br','Bhutan':'bt', \n",
    "               'Botswana':'bw', 'Belarus':'by','Belize':'bz', \n",
    "               \n",
    "               'Canada':'ca', 'Congo, the Democratic Republic of the':'cd',\n",
    "               'Central African Republic':'cf', 'Congo':'cg','Switzerland':'ch', \n",
    "               'Cote d’Ivoire':'ci', 'Chile':'cl','Cameroon':'cm', 'China':'cn',\n",
    "               'Colombia':'co','Costa Rica':'cr', 'Cuba':'cu', \n",
    "              \n",
    "              \n",
    "              \n",
    "              \n",
    "              \n",
    "              \n",
    "              \n",
    "              \n",
    "              \n",
    "              \n",
    "              \n",
    "              \n",
    "              \n",
    "              \n",
    "              \n",
    "              }"
   ]
  },
  {
   "cell_type": "code",
   "execution_count": 12,
   "metadata": {},
   "outputs": [],
   "source": [
    "worldmap_chart = pygal.maps.world.World()\n",
    "worldmap_chart.title = 'Wine distibution'"
   ]
  },
  {
   "cell_type": "code",
   "execution_count": 15,
   "metadata": {},
   "outputs": [],
   "source": [
    "worldmap_chart.add('F countries', ['fr', 'fi'])\n",
    "worldmap_chart.add('M countries', ['ma', 'mc', 'md', 'me', 'mg',\n",
    "                                   'mk', 'ml', 'mm', 'mn', 'mo',\n",
    "                                   'mr', 'mt', 'mu', 'mv', 'mw',\n",
    "                                   'mx', 'my', 'mz'])\n",
    "worldmap_chart.add('U countries', ['ua', 'ug', 'us', 'uy', 'uz'])\n",
    "worldmap_chart.render_to_file('map.svg')"
   ]
  },
  {
   "cell_type": "code",
   "execution_count": null,
   "metadata": {},
   "outputs": [],
   "source": []
  }
 ],
 "metadata": {
  "kernelspec": {
   "display_name": "Python 3",
   "language": "python",
   "name": "python3"
  },
  "language_info": {
   "codemirror_mode": {
    "name": "ipython",
    "version": 3
   },
   "file_extension": ".py",
   "mimetype": "text/x-python",
   "name": "python",
   "nbconvert_exporter": "python",
   "pygments_lexer": "ipython3",
   "version": "3.6.5"
  }
 },
 "nbformat": 4,
 "nbformat_minor": 1
}
