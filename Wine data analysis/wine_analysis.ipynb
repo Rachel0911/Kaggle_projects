{
 "cells": [
  {
   "cell_type": "markdown",
   "metadata": {},
   "source": [
    "# Import library"
   ]
  },
  {
   "cell_type": "code",
   "execution_count": 1,
   "metadata": {},
   "outputs": [],
   "source": [
    "#!/usr/bin/env python3\n",
    "# coding=utf-8\n",
    "\n",
    "\"\"\"Analysis of wine data\"\"\"\n",
    "\n",
    "__author__ = \"Rachel Wang\"\n",
    "\n",
    "# import libraries\n",
    "import pandas as pd\n",
    "import numpy as np\n",
    "import matplotlib.pyplot as plt\n",
    "%matplotlib inline\n",
    "import seaborn as sns\n",
    "# pygal maps for country distribution\n",
    "import pygal.maps.world \n",
    "from sklearn.preprocessing import StandardScaler\n",
    "from sklearn import linear_model"
   ]
  },
  {
   "cell_type": "markdown",
   "metadata": {},
   "source": [
    "# Load data "
   ]
  },
  {
   "cell_type": "code",
   "execution_count": 2,
   "metadata": {},
   "outputs": [],
   "source": [
    "# load data from csv file\n",
    "# set index_col = 0 to avoid adding Unnamed: 0 column when use pd.read_csv\n",
    "wineData = pd.read_csv(\"/Users/rwang/PycharmProjects/Kaggle_projects/Wine data analysis/winemag-data_first150k.csv\", index_col=0)\n"
   ]
  },
  {
   "cell_type": "markdown",
   "metadata": {},
   "source": [
    "# First learn data"
   ]
  },
  {
   "cell_type": "code",
   "execution_count": 3,
   "metadata": {},
   "outputs": [
    {
     "name": "stdout",
     "output_type": "stream",
     "text": [
      "<class 'pandas.core.frame.DataFrame'>\n",
      "Int64Index: 150930 entries, 0 to 150929\n",
      "Data columns (total 10 columns):\n",
      "country        150925 non-null object\n",
      "description    150930 non-null object\n",
      "designation    105195 non-null object\n",
      "points         150930 non-null int64\n",
      "price          137235 non-null float64\n",
      "province       150925 non-null object\n",
      "region_1       125870 non-null object\n",
      "region_2       60953 non-null object\n",
      "variety        150930 non-null object\n",
      "winery         150930 non-null object\n",
      "dtypes: float64(1), int64(1), object(8)\n",
      "memory usage: 12.7+ MB\n"
     ]
    }
   ],
   "source": [
    "# check wineData info and describe\n",
    "wineData.info()"
   ]
  },
  {
   "cell_type": "markdown",
   "metadata": {},
   "source": [
    "## Result Analysis: \n",
    "Except points and price are numeric, others are objects. We will explore the relationship between points and price later.<br>\n",
    "country, designation, price, province, region_1, and region_2 columns have missing values."
   ]
  },
  {
   "cell_type": "code",
   "execution_count": 4,
   "metadata": {},
   "outputs": [
    {
     "data": {
      "text/html": [
       "<div>\n",
       "<style scoped>\n",
       "    .dataframe tbody tr th:only-of-type {\n",
       "        vertical-align: middle;\n",
       "    }\n",
       "\n",
       "    .dataframe tbody tr th {\n",
       "        vertical-align: top;\n",
       "    }\n",
       "\n",
       "    .dataframe thead th {\n",
       "        text-align: right;\n",
       "    }\n",
       "</style>\n",
       "<table border=\"1\" class=\"dataframe\">\n",
       "  <thead>\n",
       "    <tr style=\"text-align: right;\">\n",
       "      <th></th>\n",
       "      <th>points</th>\n",
       "      <th>price</th>\n",
       "    </tr>\n",
       "  </thead>\n",
       "  <tbody>\n",
       "    <tr>\n",
       "      <th>count</th>\n",
       "      <td>150930.000000</td>\n",
       "      <td>137235.000000</td>\n",
       "    </tr>\n",
       "    <tr>\n",
       "      <th>mean</th>\n",
       "      <td>87.888418</td>\n",
       "      <td>33.131482</td>\n",
       "    </tr>\n",
       "    <tr>\n",
       "      <th>std</th>\n",
       "      <td>3.222392</td>\n",
       "      <td>36.322536</td>\n",
       "    </tr>\n",
       "    <tr>\n",
       "      <th>min</th>\n",
       "      <td>80.000000</td>\n",
       "      <td>4.000000</td>\n",
       "    </tr>\n",
       "    <tr>\n",
       "      <th>25%</th>\n",
       "      <td>86.000000</td>\n",
       "      <td>16.000000</td>\n",
       "    </tr>\n",
       "    <tr>\n",
       "      <th>50%</th>\n",
       "      <td>88.000000</td>\n",
       "      <td>24.000000</td>\n",
       "    </tr>\n",
       "    <tr>\n",
       "      <th>75%</th>\n",
       "      <td>90.000000</td>\n",
       "      <td>40.000000</td>\n",
       "    </tr>\n",
       "    <tr>\n",
       "      <th>max</th>\n",
       "      <td>100.000000</td>\n",
       "      <td>2300.000000</td>\n",
       "    </tr>\n",
       "  </tbody>\n",
       "</table>\n",
       "</div>"
      ],
      "text/plain": [
       "              points          price\n",
       "count  150930.000000  137235.000000\n",
       "mean       87.888418      33.131482\n",
       "std         3.222392      36.322536\n",
       "min        80.000000       4.000000\n",
       "25%        86.000000      16.000000\n",
       "50%        88.000000      24.000000\n",
       "75%        90.000000      40.000000\n",
       "max       100.000000    2300.000000"
      ]
     },
     "execution_count": 4,
     "metadata": {},
     "output_type": "execute_result"
    }
   ],
   "source": [
    "wineData.describe()"
   ]
  },
  {
   "cell_type": "markdown",
   "metadata": {},
   "source": [
    "## Result Analysis:  \n",
    "Describe method is perfect to show the statistic info for numeric columns. We could quickly know the statistic information of data. As below:<br> \n",
    "The maximum points is 100, minimum is 80. std=3.22 means variance of points is not too much.<br>\n",
    "The maximum price is 2300, minimum is 4. The std is 36.32. It is a large value means prices have a big difference."
   ]
  },
  {
   "cell_type": "code",
   "execution_count": 5,
   "metadata": {},
   "outputs": [
    {
     "data": {
      "text/plain": [
       "False    97851\n",
       "True     53079\n",
       "dtype: int64"
      ]
     },
     "execution_count": 5,
     "metadata": {},
     "output_type": "execute_result"
    }
   ],
   "source": [
    "# check duplicated rows\n",
    "wineData.duplicated().value_counts()"
   ]
  },
  {
   "cell_type": "code",
   "execution_count": 6,
   "metadata": {},
   "outputs": [],
   "source": [
    "duplicateRows = wineData[wineData.duplicated()]\n",
    " \n",
    "#print(\"Duplicate Rows except first occurrence based on all columns are :\")\n",
    "#print(duplicateRows)\n",
    "\n",
    "# remove duplicated rows \n",
    "wineData.drop_duplicates(inplace=True)"
   ]
  },
  {
   "cell_type": "code",
   "execution_count": 7,
   "metadata": {},
   "outputs": [
    {
     "name": "stdout",
     "output_type": "stream",
     "text": [
      "<class 'pandas.core.frame.DataFrame'>\n",
      "Int64Index: 97851 entries, 0 to 149639\n",
      "Data columns (total 10 columns):\n",
      "country        97848 non-null object\n",
      "description    97851 non-null object\n",
      "designation    67955 non-null object\n",
      "points         97851 non-null int64\n",
      "price          89131 non-null float64\n",
      "province       97848 non-null object\n",
      "region_1       81919 non-null object\n",
      "region_2       39491 non-null object\n",
      "variety        97851 non-null object\n",
      "winery         97851 non-null object\n",
      "dtypes: float64(1), int64(1), object(8)\n",
      "memory usage: 8.2+ MB\n"
     ]
    },
    {
     "data": {
      "text/html": [
       "<div>\n",
       "<style scoped>\n",
       "    .dataframe tbody tr th:only-of-type {\n",
       "        vertical-align: middle;\n",
       "    }\n",
       "\n",
       "    .dataframe tbody tr th {\n",
       "        vertical-align: top;\n",
       "    }\n",
       "\n",
       "    .dataframe thead th {\n",
       "        text-align: right;\n",
       "    }\n",
       "</style>\n",
       "<table border=\"1\" class=\"dataframe\">\n",
       "  <thead>\n",
       "    <tr style=\"text-align: right;\">\n",
       "      <th></th>\n",
       "      <th>points</th>\n",
       "      <th>price</th>\n",
       "    </tr>\n",
       "  </thead>\n",
       "  <tbody>\n",
       "    <tr>\n",
       "      <th>count</th>\n",
       "      <td>97851.000000</td>\n",
       "      <td>89131.000000</td>\n",
       "    </tr>\n",
       "    <tr>\n",
       "      <th>mean</th>\n",
       "      <td>87.956730</td>\n",
       "      <td>33.658783</td>\n",
       "    </tr>\n",
       "    <tr>\n",
       "      <th>std</th>\n",
       "      <td>3.218138</td>\n",
       "      <td>37.670180</td>\n",
       "    </tr>\n",
       "    <tr>\n",
       "      <th>min</th>\n",
       "      <td>80.000000</td>\n",
       "      <td>4.000000</td>\n",
       "    </tr>\n",
       "    <tr>\n",
       "      <th>25%</th>\n",
       "      <td>86.000000</td>\n",
       "      <td>16.000000</td>\n",
       "    </tr>\n",
       "    <tr>\n",
       "      <th>50%</th>\n",
       "      <td>88.000000</td>\n",
       "      <td>25.000000</td>\n",
       "    </tr>\n",
       "    <tr>\n",
       "      <th>75%</th>\n",
       "      <td>90.000000</td>\n",
       "      <td>40.000000</td>\n",
       "    </tr>\n",
       "    <tr>\n",
       "      <th>max</th>\n",
       "      <td>100.000000</td>\n",
       "      <td>2300.000000</td>\n",
       "    </tr>\n",
       "  </tbody>\n",
       "</table>\n",
       "</div>"
      ],
      "text/plain": [
       "             points         price\n",
       "count  97851.000000  89131.000000\n",
       "mean      87.956730     33.658783\n",
       "std        3.218138     37.670180\n",
       "min       80.000000      4.000000\n",
       "25%       86.000000     16.000000\n",
       "50%       88.000000     25.000000\n",
       "75%       90.000000     40.000000\n",
       "max      100.000000   2300.000000"
      ]
     },
     "execution_count": 7,
     "metadata": {},
     "output_type": "execute_result"
    }
   ],
   "source": [
    "# check basic info. No much change\n",
    "wineData.info()\n",
    "wineData.describe()"
   ]
  },
  {
   "cell_type": "markdown",
   "metadata": {},
   "source": [
    "# Again learn data \n",
    "## Explore data deeply with questions as beginning.  Column by column\n",
    "## Questions\n",
    "- 1. How is the country distibution in the whole world? Which ones are the top 10 in counts aspect? How is going within these top 10 countries in points?\n",
    "- 2. Is there some kind of relationship between description and points or price? (text study)\n",
    "- 3. What is the relationship between price and point? (positive correlation?)\n",
    "- 4. Which varieties are popular ranking as top 10?\n",
    "- 5. Within popular varities, which ones have the higher price and higher points?\n",
    "- 6. Could create a system to give recommendations to user about choosing a good wine?"
   ]
  },
  {
   "cell_type": "markdown",
   "metadata": {},
   "source": [
    "### How is the country distibution in the whole world? Which ones are the top 10 in counts aspect? How is going within these top 10 countries in points?\n",
    "#### plot world map show country distriburion"
   ]
  },
  {
   "cell_type": "code",
   "execution_count": 8,
   "metadata": {},
   "outputs": [],
   "source": [
    "# one record for country has problem. change it based on province info\n",
    "# use loc to assign modification to dataframe\n",
    "wineData.loc[wineData['country'] == 'US-France', 'country'] = 'US'\n",
    "\n",
    "# store all country names to conName_list\n",
    "country_name = wineData.country.value_counts().index\n",
    "conName_list = [name for name in country_name]"
   ]
  },
  {
   "cell_type": "code",
   "execution_count": 9,
   "metadata": {},
   "outputs": [],
   "source": [
    "# use pygal to plot world map. convert country name to the name in COUNTRIES dictionary in pygal\n",
    "def convert_country_name(country_name):\n",
    "    '''format country name'''\n",
    "    for i, name in enumerate(country_name):\n",
    "        if name == 'US':\n",
    "            country_name[i] = 'United States'\n",
    "        elif name == 'Moldova':\n",
    "            country_name[i] = 'Moldova, Republic of'\n",
    "        elif name == 'Macedonia':\n",
    "            country_name[i] = 'Macedonia, the former Yugoslav Republic of'\n",
    "        elif name == 'England':\n",
    "            country_name[i] = 'United Kingdom'\n",
    "        elif name == 'South Korea':\n",
    "            country_name[i] = 'Korea, Republic of'\n",
    "    return country_name"
   ]
  },
  {
   "cell_type": "code",
   "execution_count": 10,
   "metadata": {},
   "outputs": [],
   "source": [
    "def get_countryCode(country_name):\n",
    "    '''Get country code. The code will be use to draw the country in world map'''\n",
    "    for code, name in pygal.maps.world.COUNTRIES.items():\n",
    "        if name == country_name:\n",
    "            return code\n",
    "    return None"
   ]
  },
  {
   "cell_type": "code",
   "execution_count": 11,
   "metadata": {},
   "outputs": [],
   "source": [
    "# convert to code\n",
    "conName_list = convert_country_name(conName_list)\n",
    "countryCode = [get_countryCode(name) for name in conName_list ]"
   ]
  },
  {
   "cell_type": "code",
   "execution_count": 12,
   "metadata": {},
   "outputs": [],
   "source": [
    "# create World instance, draw map and save as svg.\n",
    "# Please check the svg in your brower\n",
    "worldmap_chart = pygal.maps.world.World()\n",
    "worldmap_chart.add('countries', countryCode)\n",
    "worldmap_chart.render_to_file('country_distribution.svg')"
   ]
  },
  {
   "cell_type": "markdown",
   "metadata": {},
   "source": [
    "#### plot the top 10 country in quantity"
   ]
  },
  {
   "cell_type": "code",
   "execution_count": 13,
   "metadata": {},
   "outputs": [
    {
     "data": {
      "text/plain": [
       "<matplotlib.legend.Legend at 0x11caca5c0>"
      ]
     },
     "execution_count": 13,
     "metadata": {},
     "output_type": "execute_result"
    },
    {
     "data": {
      "image/png": "[encoded data removed]",
      "text/plain": [
       "<Figure size 576x576 with 1 Axes>"
      ]
     },
     "metadata": {},
     "output_type": "display_data"
    }
   ],
   "source": [
    "top_country=wineData.country.value_counts()[:10]\n",
    "top_country.plot(kind='pie',autopct='%.2f%%',figsize=(8,8))\n",
    "plt.legend(bbox_to_anchor=(1,1))  "
   ]
  },
  {
   "cell_type": "markdown",
   "metadata": {},
   "source": [
    "### Result analysis:\n",
    "US, Italy, and France occupy 75% wines quantities. Even New Zealand is the top 10 country, it only takes 2.01% ratio of the whole wine market. So other counties will take very small market."
   ]
  },
  {
   "cell_type": "markdown",
   "metadata": {},
   "source": [
    "#### plot boxplot for above top 10 countries with points column"
   ]
  },
  {
   "cell_type": "code",
   "execution_count": 14,
   "metadata": {},
   "outputs": [
    {
     "data": {
      "text/plain": [
       "[Text(0, 0, 'US'),\n",
       " Text(0, 0, 'Spain'),\n",
       " Text(0, 0, 'France'),\n",
       " Text(0, 0, 'Italy'),\n",
       " Text(0, 0, 'New Zealand'),\n",
       " Text(0, 0, 'Argentina'),\n",
       " Text(0, 0, 'Australia'),\n",
       " Text(0, 0, 'Portugal'),\n",
       " Text(0, 0, 'Chile'),\n",
       " Text(0, 0, 'Austria')]"
      ]
     },
     "execution_count": 14,
     "metadata": {},
     "output_type": "execute_result"
    },
    {
     "data": {
      "image/png": "[encoded data removed]",
      "text/plain": [
       "<Figure size 864x576 with 1 Axes>"
      ]
     },
     "metadata": {},
     "output_type": "display_data"
    }
   ],
   "source": [
    "# select data whose country is in above 10 countries\n",
    "topCountriesDf = wineData[wineData.country.isin(top_country.index)]\n",
    "\n",
    "# plot boxplot\n",
    "plt.figure(figsize=(12, 8))\n",
    "ax = sns.boxplot(x='country', y=\"points\", data=topCountriesDf, palette=\"Blues\")\n",
    "ax.set_xticklabels(ax.get_xticklabels(), rotation=45, horizontalalignment='right')"
   ]
  },
  {
   "cell_type": "markdown",
   "metadata": {},
   "source": [
    "### Result analysis:\n",
    "- 1. US takes the largest market share. The median of points is good enough. It has highest points(100).\n",
    "- 2. Spain takes the second large market share. But the wines in points are not good. The overall tasety in Spain needs to improve.\n",
    "- 3. France performs pretty good in points. It has higher median points. It has fewer wines with lowest points(80) and some wines with highest points(100). \n",
    "- 4. Argentina an Chile have the worst performance in points. They need to improve the quality of wines.\n",
    "- 5. Although Austria does not take a very large market share, it has the highest median. It means the whole wine point within Austria is better than other 9 countries. No the highest points(100) wine in Austria, also no the lowest points(80) in Austria."
   ]
  },
  {
   "cell_type": "markdown",
   "metadata": {},
   "source": [
    "### Conclusion\n",
    "Only consider about overall points, the France is a good country to choose wines."
   ]
  },
  {
   "cell_type": "code",
   "execution_count": null,
   "metadata": {},
   "outputs": [],
   "source": [
    "# Draw bar chat for varitiy\n",
    "topVarieties = wineData.variety.value_counts()[0:10]\n",
    "ax = topVarieties.plot(kind='bar', title='top 10 of Wine Varieties')\n",
    "plt.ylabel('Counts', fontsize=12)"
   ]
  },
  {
   "cell_type": "markdown",
   "metadata": {},
   "source": [
    "## Result of the first question\n",
    "The top 10 popular wine varieties are: \n",
    "- 1. Pinot Noir, \n",
    "- 2. Chardonnay, \n",
    "- 3. Cabernet Sauvignon, \n",
    "- 4. Red Blend, \n",
    "- 5. Bordeaux-style Red Blend,\n",
    "- 6. Sauvignon Blanc,\n",
    "- 7. Syrah,\n",
    "- 8. Riesling,\n",
    "- 9. Merlot\n",
    "- 10. Zinfandel"
   ]
  },
  {
   "cell_type": "code",
   "execution_count": null,
   "metadata": {},
   "outputs": [],
   "source": [
    "# Draw boxplot to find which varities have higher price\n",
    "\n",
    "# select data which variety is in top 10 varieties\n",
    "topVaritiesDf = wineData[wineData.variety.isin(topVarieties.index)]\n",
    "\n",
    "# use sns plot boxplot\n",
    "plt.figure(figsize=(12, 8))\n",
    "plt.ylim([0, 125])\n",
    "ax = sns.boxplot(x='variety', y=\"price\", data=topVaritiesDf, palette=\"Blues\")\n",
    "ax.set_xticklabels(ax.get_xticklabels(), rotation=45, horizontalalignment='right')"
   ]
  },
  {
   "cell_type": "markdown",
   "metadata": {},
   "source": [
    "## Plus a note: \n",
    "### Difference between bar chat and histogram\n",
    "- 1. A histogram represents the frequency distribution of continuous variables. <br>\n",
    "     A bar graph is a diagrammatic comparison of discrete variables. \n",
    "- 2. Histogram presents numerical data whereas bar graph shows categorical data. \n",
    "- 3. The histogram is drawn in such a way that there is no gap between the bars."
   ]
  },
  {
   "cell_type": "code",
   "execution_count": null,
   "metadata": {},
   "outputs": [],
   "source": [
    "# Draw boxplot to find which varities have higher points\n",
    "plt.figure(figsize=(12, 8))\n",
    "ax = sns.boxplot(x='variety', y=\"points\", data=topVaritiesDf, palette=\"Blues\")\n",
    "ax.set_xticklabels(ax.get_xticklabels(), rotation=45, horizontalalignment='right')"
   ]
  },
  {
   "cell_type": "markdown",
   "metadata": {},
   "source": [
    "## Result of the second question\n",
    "(According to mean)\n",
    "- 1. Bordeaux-style Red Blend, Pinot Noir, and Cabernet Sauvignon have higher price.\n",
    "- 2. Still Bordeaux-style Red Blend, Pinot Noir, and Cabernet Sauvignon have higher mean of points.\n",
    "\n",
    "<br>\n",
    "We could get a conclusion: more expensive, taste better. <br>\n",
    "Let's find if there is positive correlation between price and points"
   ]
  },
  {
   "cell_type": "code",
   "execution_count": null,
   "metadata": {},
   "outputs": [],
   "source": [
    "# draw price distribution\n",
    "plt.figure(figsize=(8,8))\n",
    "sns.distplot(wineData.price.dropna(), kde=False)"
   ]
  },
  {
   "cell_type": "markdown",
   "metadata": {},
   "source": [
    "## Report about price distribution\n",
    "We could know most price of wines are less than 200. The quantity of price greater than 500 is small. The wine with price greater than 500 will belong to senior wine. "
   ]
  },
  {
   "cell_type": "code",
   "execution_count": null,
   "metadata": {},
   "outputs": [],
   "source": [
    "# use mathmatic to prove most price is less than 200\n",
    "# more than 90% price of wines is less than 200\n",
    "price_less200 = wineData.loc[wineData['price'] < 200]\n",
    "price_greater500 = wineData.loc[wineData['price'] > 500]\n",
    "ratio_less200 = len(price_less200) / len(wineData)\n",
    "ratio_greater500 = len(price_greater500) / len(wineData)\n",
    "f'The ratio of price less 200 is {ratio_less200} and the ratio of price greater than 500 is {ratio_greater500}.'"
   ]
  },
  {
   "cell_type": "code",
   "execution_count": null,
   "metadata": {},
   "outputs": [],
   "source": [
    "# find the relationship between price and points\n",
    "all_pricePoint = wineData['price'].corr(wineData['points'])\n",
    "less200_pricePoint = price_less200['price'].corr(price_less200['points'])\n",
    "print(f'The overall correlation coefficient for price and points is {all_pricePoint}.')\n",
    "print(f'The correlation coefficient for price less than 200 and points is {less200_pricePoint}.')"
   ]
  },
  {
   "cell_type": "markdown",
   "metadata": {},
   "source": [
    "## Result of correlation between price and points\n",
    "We could know when we limit the range of price. The positive correlation is stronger. <br>\n",
    "Thus, it will have other factor to impact the price of wines when the price becomes higher. <br>\n",
    "For example, the cost of commerical."
   ]
  },
  {
   "cell_type": "code",
   "execution_count": null,
   "metadata": {},
   "outputs": [],
   "source": [
    "# plot regression for price less than 200 and points\n",
    "sns.lmplot(x='price',y='points',data= price_less200)"
   ]
  },
  {
   "cell_type": "code",
   "execution_count": null,
   "metadata": {},
   "outputs": [],
   "source": [
    "## Build linear regression model to instruct wine's choice"
   ]
  },
  {
   "cell_type": "code",
   "execution_count": null,
   "metadata": {},
   "outputs": [],
   "source": [
    "x = np.array(price_less200['price']).reshape(-1, 1)\n",
    "y = np.array(price_less200['points']).reshape(-1, 1)\n",
    "reg = linear_model.LinearRegression()\n",
    "reg.fit(x, y)\n",
    "intercept = reg.intercept_\n",
    "coef = reg.coef_\n",
    "print('Intercept: \\n', intercept)\n",
    "print('Coefficients: \\n', coef)\n",
    "print('Regression model is:')\n",
    "print(f'y={coef}*x+{intercept}')"
   ]
  },
  {
   "cell_type": "markdown",
   "metadata": {},
   "source": [
    "## Tips for wine's choice\n",
    "The linear regression will help choose wines with high cost-effective. If you want to choose wine with price less than \n",
    "200 and taste good. Please pay attention to below data. Choose one of them."
   ]
  },
  {
   "cell_type": "code",
   "execution_count": null,
   "metadata": {},
   "outputs": [],
   "source": [
    "# Let's find the wines whose price is less than 200 with high cost-effective \n",
    "wine_good= price_less200.copy()\n",
    "wine_good['points_reg']=coef[0]*wine_good.price + intercept\n",
    "wine_good = wine_good[wine_good.points > wine_good.points_reg].reset_index(drop=True)\n",
    "wine_good"
   ]
  },
  {
   "cell_type": "markdown",
   "metadata": {},
   "source": [
    "## Create a wine recommend system"
   ]
  },
  {
   "cell_type": "code",
   "execution_count": null,
   "metadata": {
    "scrolled": true
   },
   "outputs": [],
   "source": [
    "# select top 5 wine based on points in each price group\n",
    "price_group = list(wineData.groupby('price').points.nlargest(5).reset_index().level_1)\n",
    "# select the top wine in each price group from original dataset and store as wine_recommend\n",
    "wine_recommend=wineData.loc[price_group].reset_index(drop=True)\n",
    "\n",
    "plt.figure(figsize=(8, 8))\n",
    "sns.scatterplot(y='points',x='price',hue='country',data=wine_recommend)\n",
    "plt.legend(loc='lower right')"
   ]
  },
  {
   "cell_type": "code",
   "execution_count": null,
   "metadata": {},
   "outputs": [],
   "source": [
    "# try to use the wine recommend system\n",
    "print('Please input a price you expect：')\n",
    "expect_price = float(input(''))\n",
    "if expect_price in list(wine_recommend.price):\n",
    "    temp=wine_recommend[wine_recommend.price==expect_price]\n",
    "    for i in list(temp.index):\n",
    "      if temp.loc[i].designation: \n",
    "        print('recommend：%s belongs to %s from %s，price: %.1f，points: %.1f.'%(temp.loc[i].designation, temp.loc[i].variety, temp.loc[i].country,temp.loc[i].price,temp.loc[i].points))\n",
    "      else:\n",
    "        print('recommend：%s from %s，price: %.1f，points: %.1f.'%(temp.loc[i].variety, temp.loc[i].country, temp.loc[i].price, temp.loc[i].points))\n",
    "else:\n",
    "    print('please input an approprate price')\n",
    "    "
   ]
  },
  {
   "cell_type": "markdown",
   "metadata": {},
   "source": [
    "# Create a prediction model for points"
   ]
  },
  {
   "cell_type": "code",
   "execution_count": null,
   "metadata": {},
   "outputs": [],
   "source": []
  }
 ],
 "metadata": {
  "kernelspec": {
   "display_name": "Python 3",
   "language": "python",
   "name": "python3"
  },
  "language_info": {
   "codemirror_mode": {
    "name": "ipython",
    "version": 3
   },
   "file_extension": ".py",
   "mimetype": "text/x-python",
   "name": "python",
   "nbconvert_exporter": "python",
   "pygments_lexer": "ipython3",
   "version": "3.6.5"
  }
 },
 "nbformat": 4,
 "nbformat_minor": 1
}
